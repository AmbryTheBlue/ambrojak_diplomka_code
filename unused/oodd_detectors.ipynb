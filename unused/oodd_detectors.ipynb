{
 "cells": [
  {
   "cell_type": "code",
   "execution_count": null,
   "id": "8f3809f7-3095-4ec5-869d-fc620ee9ec81",
   "metadata": {},
   "outputs": [],
   "source": [
    "!pip install openpyxl mlflow pandas scikit-learn==1.5.2 oracledb python-dotenv tensorflow scikeras xgboost lightgbm --proxy http://172.25.156.90:3128"
   ]
  },
  {
   "cell_type": "code",
   "execution_count": null,
   "id": "df6eb5dc-aab0-4f47-93dd-302e915be8c6",
   "metadata": {},
   "outputs": [],
   "source": [
    "import sys\n",
    "sys.path.append('./src/oodd_detectors')\n",
    "import mlflow\n",
    "from sklearn.model_selection import train_test_split\n",
    "import numpy as np"
   ]
  },
  {
   "cell_type": "code",
   "execution_count": null,
   "id": "f6a09fa9-a941-45b5-a8cf-93eeff9b7009",
   "metadata": {},
   "outputs": [],
   "source": [
    "from sklearn.compose import ColumnTransformer\n",
    "from db_utils import connect_to_oracle, get_data_for_anomaly_type\n",
    "from pipeline_utils import create_pipelines, evaluate_pipeline, evaluate_pipeline_oodd\n",
    "from sklearn.pipeline import Pipeline\n",
    "from src.preprocessors.text_preprocessor import TextPreprocessor, PrinterNonTransformer\n",
    "from sklearn.feature_extraction.text import TfidfVectorizer, CountVectorizer\n",
    "from continuous_OODD import OODDContinuousModel\n",
    "from categorical_OODD import OODDCategoricalModel, OODDSmoothedCategoricalModel\n",
    "from counter_OODD import CountBasedClassifier, FallbackCountClassifier\n",
    "\n",
    "connection , cursor = connect_to_oracle()"
   ]
  },
  {
   "cell_type": "code",
   "execution_count": null,
   "id": "d2fa38f8-24aa-45c2-bcfd-0c91ddc1f571",
   "metadata": {},
   "outputs": [],
   "source": [
    "df, X_cols, y_col = get_data_for_anomaly_type(cursor, 'BHT', limit=120000)\n",
    "\n",
    "X_train, X_test = train_test_split(df, test_size=0.1, random_state=42)\n",
    "print(\"\\nOODDContinuousModel:\")\n",
    "evaluate_pipeline_oodd(OODDContinuousModel(X_cols, y_col), X_train, X_test, target_col=y_col,type='categorical2' )\n",
    "print(\"\\nOODDCategoricalModel:\")\n",
    "evaluate_pipeline_oodd(OODDCategoricalModel(X_cols, y_col), X_train, X_test, target_col=y_col,type='categorical2')\n",
    "# print(\"\\nOODDSmoothedCategoricalModel:\")\n",
    "# evaluate_pipeline_oodd(OODDSmoothedCategoricalModel(X_cols, y_col), X_train, X_test, target_col=y_col,type='categorical')\n",
    "print(\"\\nCountBasedClassifier:\")\n",
    "evaluate_pipeline_oodd(CountBasedClassifier(X_cols, y_col), X_train, X_test, target_col=y_col,type='categorical2')\n",
    "print(\"\\nFallbackCountClassifier:\")\n",
    "evaluate_pipeline_oodd(FallbackCountClassifier(X_cols, y_col), X_train, X_test, target_col=y_col,type='categorical2')"
   ]
  },
  {
   "cell_type": "code",
   "execution_count": null,
   "id": "6d6698b1-c30c-41a3-a5be-46dcb754f960",
   "metadata": {},
   "outputs": [],
   "source": [
    "df, X_cols, y_col = get_data_for_anomaly_type(cursor, 'BHT_WITH_PLACE', limit=120000)\n",
    "\n",
    "X_train, X_test = train_test_split(df, test_size=0.1, random_state=42)\n",
    "print(\"\\nOODDContinuousModel:\")\n",
    "evaluate_pipeline_oodd(OODDContinuousModel(X_cols, y_col), X_train, X_test, target_col=y_col,type='categorical2' )\n",
    "print(\"\\nOODDCategoricalModel:\")\n",
    "evaluate_pipeline_oodd(OODDCategoricalModel(X_cols, y_col), X_train, X_test, target_col=y_col,type='categorical2')\n",
    "# print(\"\\nOODDSmoothedCategoricalModel:\")\n",
    "# evaluate_pipeline_oodd(OODDSmoothedCategoricalModel(X_cols, y_col), X_train, X_test, target_col=y_col,type='categorical')\n",
    "print(\"\\nCountBasedClassifier:\")\n",
    "evaluate_pipeline_oodd(CountBasedClassifier(X_cols, y_col), X_train, X_test, target_col=y_col,type='categorical2')\n",
    "print(\"\\nFallbackCountClassifier:\")\n",
    "evaluate_pipeline_oodd(FallbackCountClassifier(X_cols, y_col), X_train, X_test, target_col=y_col,type='categorical2')"
   ]
  },
  {
   "cell_type": "code",
   "execution_count": null,
   "id": "d02197db-2dec-4a18-82b7-e2b158e37f69",
   "metadata": {},
   "outputs": [],
   "source": [
    "df, X_cols, y_col = get_data_for_anomaly_type(cursor, 'TEMP_FROM', limit=200000)\n",
    "\n",
    "X_train, X_test = train_test_split(df, test_size=0.1, random_state=42)\n",
    "print(\"\\nOODDContinuousModel:\")\n",
    "evaluate_pipeline_oodd(OODDContinuousModel(X_cols, y_col), X_train, X_test, target_col=y_col,type='continuous' )\n",
    "print(\"\\nOODDCategoricalModel:\")\n",
    "evaluate_pipeline_oodd(OODDCategoricalModel(X_cols, y_col), X_train, X_test, target_col=y_col,type='continuous')\n",
    "# print(\"\\nOODDSmoothedCategoricalModel:\")\n",
    "# evaluate_pipeline_oodd(OODDSmoothedCategoricalModel(X_cols, y_col), X_train, X_test, target_col=y_col,type='continuous')\n",
    "print(\"\\nCountBasedClassifier:\")\n",
    "evaluate_pipeline_oodd(CountBasedClassifier(X_cols, y_col), X_train, X_test, target_col=y_col,type='continuous')\n",
    "print(\"\\nFallbackCountClassifier:\")\n",
    "evaluate_pipeline_oodd(FallbackCountClassifier(X_cols, y_col), X_train, X_test, target_col=y_col,type='continuous')"
   ]
  },
  {
   "cell_type": "code",
   "execution_count": null,
   "id": "ea2d9482-e7d4-4f31-b51a-450ef1e8f265",
   "metadata": {},
   "outputs": [],
   "source": [
    "df, X_cols, y_col = get_data_for_anomaly_type(cursor, 'TEMP_FROM', limit=200000)\n",
    "\n",
    "X_train, X_test = train_test_split(df, test_size=0.1, random_state=42)\n",
    "print(\"\\nOODDContinuousModel:\")\n",
    "evaluate_pipeline_oodd(OODDContinuousModel(X_cols, y_col), X_train, X_test, target_col=y_col,type='categorical3' )\n",
    "print(\"\\nOODDCategoricalModel:\")\n",
    "evaluate_pipeline_oodd(OODDCategoricalModel(X_cols, y_col), X_train, X_test, target_col=y_col,type='categorical3')\n",
    "# print(\"\\nOODDSmoothedCategoricalModel:\")\n",
    "# evaluate_pipeline_oodd(OODDSmoothedCategoricalModel(X_cols, y_col), X_train, X_test, target_col=y_col,type='categorical3')\n",
    "print(\"\\nCountBasedClassifier:\")\n",
    "evaluate_pipeline_oodd(CountBasedClassifier(X_cols, y_col), X_train, X_test, target_col=y_col,type='categorical3')\n",
    "print(\"\\nFallbackCountClassifier:\")\n",
    "evaluate_pipeline_oodd(FallbackCountClassifier(X_cols, y_col), X_train, X_test, target_col=y_col,type='categorical3')"
   ]
  }
 ],
 "metadata": {
  "kernelspec": {
   "display_name": "Python 3 (ipykernel)",
   "language": "python",
   "name": "python3"
  },
  "language_info": {
   "codemirror_mode": {
    "name": "ipython",
    "version": 3
   },
   "file_extension": ".py",
   "mimetype": "text/x-python",
   "name": "python",
   "nbconvert_exporter": "python",
   "pygments_lexer": "ipython3",
   "version": "3.12.10"
  }
 },
 "nbformat": 4,
 "nbformat_minor": 5
}
