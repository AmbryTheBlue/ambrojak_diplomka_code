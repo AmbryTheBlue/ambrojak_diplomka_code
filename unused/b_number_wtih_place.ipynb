{
 "cells": [
  {
   "cell_type": "code",
   "execution_count": null,
   "id": "b895a644-0317-434f-897e-5aabb79df115",
   "metadata": {},
   "outputs": [],
   "source": [
    "!pip install openpyxl mlflow pandas scikit-learn==1.5.2 oracledb python-dotenv tensorflow scikeras xgboost lightgbm seaborn --proxy http://172.25.156.90:3128"
   ]
  },
  {
   "cell_type": "code",
   "execution_count": null,
   "id": "1fe5a9ad-c2ad-433a-8d76-891a08eef49c",
   "metadata": {},
   "outputs": [],
   "source": [
    "from db_utils import connect_to_oracle, get_data_for_anomaly_type\n",
    "from pipeline_utils import create_pipelines, evaluate_pipeline, evaluate_pipeline_oodd, create_pipelines_for_probs, evaluate_pipeline_from_probs\n",
    "from sklearn.model_selection import train_test_split\n",
    "import sys\n",
    "sys.path.append('./src/oodd_detectors')\n",
    "import mlflow\n",
    "from continuous_OODD import OODDContinuousModel\n",
    "from categorical_OODD import OODDCategoricalModel, OODDSmoothedCategoricalModel\n",
    "from counter_OODD import CountBasedClassifier, FallbackCountClassifier\n",
    "# needs scikit-learn version 1.5.2 (default 1.6.1 throws 'super' object has no attribute '__sklearn_tags__'.\n",
    "# from scikeras.wrappers import KerasClassifier\n",
    "connection, cursor = connect_to_oracle()"
   ]
  },
  {
   "cell_type": "code",
   "execution_count": null,
   "id": "955269a4-3992-48f5-96f3-b5a31b85096f",
   "metadata": {},
   "outputs": [],
   "source": [
    "df, X_cols, y_col = get_data_for_anomaly_type(\n",
    "    cursor, 'BHT_WITH_PLACE', limit=50000)"
   ]
  },
  {
   "cell_type": "code",
   "execution_count": null,
   "id": "73f176c1-5c19-4d76-965e-4449da4e3a9b",
   "metadata": {},
   "outputs": [],
   "source": [
    "from plot_utils import plot_target_distribution\n",
    "\n",
    "plot_target_distribution(df, y_col)"
   ]
  },
  {
   "cell_type": "code",
   "execution_count": null,
   "id": "a7781de1-4b24-4b2b-8a7f-e655196aa5a2",
   "metadata": {},
   "outputs": [],
   "source": [
    "y = df[y_col].copy()\n",
    "# df.drop(columns=[y_col], inplace=True)\n",
    "X_train, X_test, y_train, y_test = train_test_split(\n",
    "    df, y, test_size=0.1, random_state=42)\n",
    "\n",
    "for pipeline in create_pipelines(X_cols):\n",
    "    # Evaluate the pipeline\n",
    "    evaluate_pipeline(pipeline, X_train, y_train,\n",
    "                      X_test, y_test, verbose=False)"
   ]
  },
  {
   "cell_type": "code",
   "execution_count": null,
   "id": "a3e2ba83-061c-4e3c-a161-724368c4fea1",
   "metadata": {},
   "outputs": [],
   "source": [
    "# df, X_cols, y_col = get_data_for_anomaly_type(cursor, 'HEATING_TYPE', limit=200000)\n",
    "\n",
    "X_train, X_test = train_test_split(df, test_size=0.1, random_state=42)\n",
    "print(\"\\nOODDContinuousModel:\")\n",
    "evaluate_pipeline_oodd(OODDContinuousModel(X_cols, y_col), X_train, X_test, target_col=y_col,type='categorical2' )\n",
    "print(\"\\nOODDCategoricalModel:\")\n",
    "evaluate_pipeline_oodd(OODDCategoricalModel(X_cols, y_col), X_train, X_test, target_col=y_col,type='categorical2')\n",
    "print(\"\\nOODDSmoothedCategoricalModel:\")\n",
    "evaluate_pipeline_oodd(OODDSmoothedCategoricalModel(X_cols, y_col), X_train, X_test, target_col=y_col,type='categorical2')\n",
    "print(\"\\nCountBasedClassifier:\")\n",
    "evaluate_pipeline_oodd(CountBasedClassifier(X_cols, y_col), X_train, X_test, target_col=y_col,type='categorical2')\n",
    "print(\"\\nFallbackCountClassifier:\")\n",
    "evaluate_pipeline_oodd(FallbackCountClassifier(X_cols, y_col), X_train, X_test, target_col=y_col,type='categorical2')"
   ]
  },
  {
   "cell_type": "code",
   "execution_count": null,
   "id": "a9ae8829-43a5-4d6b-b5c0-a7ba319f4490",
   "metadata": {},
   "outputs": [],
   "source": [
    "from sklearn.preprocessing import LabelEncoder\n",
    "import pandas as pd\n",
    "\n",
    "le = LabelEncoder()\n",
    "y = pd.Series(le.fit_transform(df[y_col]), index=df.index, name=y_col)\n",
    "X_train, X_test, y_train, y_test = train_test_split(\n",
    "    df, y, test_size=0.1, random_state=42)\n",
    "\n",
    "for pipeline in create_pipelines_for_probs(X_cols):\n",
    "    print('\\n' + pipeline.steps[-1][0])\n",
    "    evaluate_pipeline_from_probs(pipeline, X_train, y_train,  X_test, y_test, threshold=0.5, target_col=y_col)"
   ]
  },
  {
   "cell_type": "code",
   "execution_count": null,
   "id": "e691fd47-64e4-4710-869b-95d0f012939b",
   "metadata": {},
   "outputs": [],
   "source": []
  }
 ],
 "metadata": {
  "kernelspec": {
   "display_name": "Python 3 (ipykernel)",
   "language": "python",
   "name": "python3"
  },
  "language_info": {
   "codemirror_mode": {
    "name": "ipython",
    "version": 3
   },
   "file_extension": ".py",
   "mimetype": "text/x-python",
   "name": "python",
   "nbconvert_exporter": "python",
   "pygments_lexer": "ipython3",
   "version": "3.12.10"
  }
 },
 "nbformat": 4,
 "nbformat_minor": 5
}
