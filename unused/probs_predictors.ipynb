{
 "cells": [
  {
   "cell_type": "code",
   "execution_count": null,
   "id": "7b61b21f-1f50-4864-b837-9b9429bb941d",
   "metadata": {},
   "outputs": [],
   "source": [
    "!pip install openpyxl mlflow pandas scikit-learn==1.5.2 oracledb python-dotenv tensorflow scikeras xgboost lightgbm --proxy http://172.25.156.90:3128"
   ]
  },
  {
   "cell_type": "code",
   "execution_count": null,
   "id": "a3a4f8bc-a59f-42fd-9ff5-b7ef796a75ad",
   "metadata": {},
   "outputs": [],
   "source": [
    "from db_utils import connect_to_oracle, get_data_for_anomaly_type\n",
    "from pipeline_utils import create_pipelines, evaluate_pipeline, create_pipelines_for_probs, evaluate_pipeline_from_probs\n",
    "from sklearn.model_selection import train_test_split\n",
    "# needs scikit-learn version 1.5.2 (default 1.6.1 throws 'super' object has no attribute '__sklearn_tags__'.\n",
    "# from scikeras.wrappers import KerasClassifier\n",
    "connection, cursor = connect_to_oracle()"
   ]
  },
  {
   "cell_type": "code",
   "execution_count": null,
   "id": "e6d4c7d6",
   "metadata": {},
   "outputs": [],
   "source": [
    "df, X_cols, y_col = get_data_for_anomaly_type(\n",
    "    cursor, 'HEATING_TYPE', limit=20000)\n",
    "\n",
    "y = df[y_col].copy()\n",
    "# df.drop(columns=[y_col], inplace=True)\n",
    "X_train, X_test, y_train, y_test = train_test_split(\n",
    "    df, y, test_size=0.1, random_state=42)\n",
    "\n",
    "for pipeline in create_pipelines_for_probs(X_cols):\n",
    "    # Evaluate the pipeline\n",
    "    evaluate_pipeline(pipeline, X_train, y_train,\n",
    "                      X_test, y_test, verbose=False)"
   ]
  },
  {
   "cell_type": "code",
   "execution_count": null,
   "id": "7e4dfaa1-f707-4dab-be8c-ec3925686d23",
   "metadata": {},
   "outputs": [],
   "source": [
    "from sklearn.preprocessing import LabelEncoder\n",
    "import pandas as pd\n",
    "df, X_cols, y_col = get_data_for_anomaly_type(cursor, 'TEMP_FROM', limit=20000)\n",
    "\n",
    "le = LabelEncoder()\n",
    "y = pd.Series(le.fit_transform(df[y_col]), index=df.index, name=y_col)\n",
    "X_train, X_test, y_train, y_test = train_test_split(\n",
    "    df, y, test_size=0.1, random_state=42)\n",
    "\n",
    "for pipeline in create_pipelines_for_probs(X_cols):\n",
    "    evaluate_pipeline(pipeline, X_train, y_train, X_test, y_test, verbose=False)\n"
   ]
  },
  {
   "cell_type": "code",
   "execution_count": null,
   "id": "705da67e-6461-4fc2-8c82-9e07ce69a48f",
   "metadata": {},
   "outputs": [],
   "source": [
    "from sklearn.preprocessing import LabelEncoder\n",
    "import pandas as pd\n",
    "df, X_cols, y_col = get_data_for_anomaly_type(cursor, 'TEMP_FROM', limit=20000)\n",
    "\n",
    "le = LabelEncoder()\n",
    "y = pd.Series(le.fit_transform(df[y_col]), index=df.index, name=y_col)\n",
    "X_train, X_test, y_train, y_test = train_test_split(\n",
    "    df, y, test_size=0.1, random_state=42)\n",
    "\n",
    "for pipeline in create_pipelines_for_probs(X_cols):\n",
    "    evaluate_pipeline_from_probs(pipeline, X_train, y_train,  X_test, y_test, threshold=0.8, target_col=y_col)\n"
   ]
  },
  {
   "cell_type": "code",
   "execution_count": null,
   "id": "3b675333-e374-4428-903f-42a1ce87acbd",
   "metadata": {},
   "outputs": [],
   "source": [
    "from sklearn.preprocessing import LabelEncoder\n",
    "import pandas as pd\n",
    "df, X_cols, y_col = get_data_for_anomaly_type(cursor, 'HEATING_TYPE', limit=20000)\n",
    "\n",
    "le = LabelEncoder()\n",
    "y = pd.Series(le.fit_transform(df[y_col]), index=df.index, name=y_col)\n",
    "X_train, X_test, y_train, y_test = train_test_split(\n",
    "    df, y, test_size=0.1, random_state=42)\n",
    "\n",
    "for pipeline in create_pipelines_for_probs(X_cols):\n",
    "    print('\\n' + pipeline.steps[-1][0])\n",
    "    evaluate_pipeline_from_probs(pipeline, X_train, y_train,  X_test, y_test, threshold=0.5, target_col=y_col)\n"
   ]
  },
  {
   "cell_type": "code",
   "execution_count": null,
   "id": "068e1f47-38b5-476b-b4e1-55615b30abe4",
   "metadata": {},
   "outputs": [],
   "source": [
    "from sklearn.preprocessing import LabelEncoder\n",
    "import pandas as pd\n",
    "df, X_cols, y_col = get_data_for_anomaly_type(cursor, 'EX_CO_TYP', limit=20000)\n",
    "\n",
    "le = LabelEncoder()\n",
    "y = pd.Series(le.fit_transform(df[y_col]), index=df.index, name=y_col)\n",
    "X_train, X_test, y_train, y_test = train_test_split(\n",
    "    df, y, test_size=0.1, random_state=42)\n",
    "\n",
    "for pipeline in create_pipelines_for_probs(X_cols):\n",
    "    print('\\n' + pipeline.steps[-1][0])\n",
    "    evaluate_pipeline_from_probs(pipeline, X_train, y_train,  X_test, y_test, threshold=0.1, target_col=y_col)\n"
   ]
  },
  {
   "cell_type": "code",
   "execution_count": null,
   "id": "e6bb5133-8d83-47a0-97b4-bb1a18a2e2f2",
   "metadata": {},
   "outputs": [],
   "source": [
    "from sklearn.preprocessing import LabelEncoder\n",
    "import pandas as pd\n",
    "df, X_cols, y_col = get_data_for_anomaly_type(cursor, 'EX_CO_TYP', limit=20000)\n",
    "\n",
    "le = LabelEncoder()\n",
    "y = pd.Series(le.fit_transform(df[y_col]), index=df.index, name=y_col)\n",
    "X_train, X_test, y_train, y_test = train_test_split(\n",
    "    df, y, test_size=0.1, random_state=42)\n",
    "\n",
    "for pipeline in create_pipelines_for_probs(X_cols):\n",
    "    print('\\n' + pipeline.steps[-1][0])\n",
    "    evaluate_pipeline(pipeline, X_train, y_train,  X_test, y_test)\n"
   ]
  },
  {
   "cell_type": "code",
   "execution_count": null,
   "id": "bf41291c-6456-4ef6-8341-2afa08ff2b12",
   "metadata": {},
   "outputs": [],
   "source": [
    "from sklearn.preprocessing import LabelEncoder\n",
    "import pandas as pd\n",
    "df, X_cols, y_col = get_data_for_anomaly_type(cursor, 'EX_CO_TYP', limit=20000)\n",
    "\n",
    "le = LabelEncoder()\n",
    "y = pd.Series(le.fit_transform(df[y_col]), index=df.index, name=y_col)\n",
    "X_train, X_test, y_train, y_test = train_test_split(\n",
    "    df, y, test_size=0.1, random_state=42)\n",
    "\n",
    "for pipeline in create_pipelines(X_cols):\n",
    "    print('\\n' + pipeline.steps[-1][0])\n",
    "    evaluate_pipeline(pipeline, X_train, y_train,  X_test, y_test)\n"
   ]
  },
  {
   "cell_type": "code",
   "execution_count": null,
   "id": "b473fd53-5091-4401-a45a-627b2a13de26",
   "metadata": {},
   "outputs": [],
   "source": [
    "from sklearn.preprocessing import LabelEncoder\n",
    "import pandas as pd\n",
    "df, X_cols, y_col = get_data_for_anomaly_type(cursor, 'EX_CO_TYP', limit=20000)\n",
    "\n",
    "le = LabelEncoder()\n",
    "y = pd.Series(le.fit_transform(df[y_col]), index=df.index, name=y_col)\n",
    "X_train, X_test, y_train, y_test = train_test_split(\n",
    "    df, y, test_size=0.1, random_state=42)\n",
    "\n",
    "for pipeline in create_pipelines(X_cols):\n",
    "    print('\\n' + pipeline.steps[-1][0])\n",
    "    try:\n",
    "        evaluate_pipeline_from_probs(pipeline, X_train, y_train,  X_test, y_test, threshold=0.1, target_col=y_col)\n",
    "    except Exception as e:\n",
    "        print(e)"
   ]
  }
 ],
 "metadata": {
  "kernelspec": {
   "display_name": "Python 3 (ipykernel)",
   "language": "python",
   "name": "python3"
  },
  "language_info": {
   "codemirror_mode": {
    "name": "ipython",
    "version": 3
   },
   "file_extension": ".py",
   "mimetype": "text/x-python",
   "name": "python",
   "nbconvert_exporter": "python",
   "pygments_lexer": "ipython3",
   "version": "3.12.10"
  }
 },
 "nbformat": 4,
 "nbformat_minor": 5
}
