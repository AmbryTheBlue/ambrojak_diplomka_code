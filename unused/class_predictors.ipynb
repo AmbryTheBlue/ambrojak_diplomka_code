{
 "cells": [
  {
   "cell_type": "code",
   "execution_count": null,
   "id": "7b61b21f-1f50-4864-b837-9b9429bb941d",
   "metadata": {},
   "outputs": [],
   "source": [
    "!pip install openpyxl mlflow pandas scikit-learn==1.5.2 oracledb python-dotenv tensorflow scikeras xgboost lightgbm --proxy http://172.25.156.90:3128"
   ]
  },
  {
   "cell_type": "code",
   "execution_count": null,
   "id": "a3a4f8bc-a59f-42fd-9ff5-b7ef796a75ad",
   "metadata": {},
   "outputs": [],
   "source": [
    "from db_utils import connect_to_oracle, get_data_for_anomaly_type\n",
    "from pipeline_utils import create_pipelines, evaluate_pipeline\n",
    "from sklearn.model_selection import train_test_split\n",
    "# needs scikit-learn version 1.5.2 (default 1.6.1 throws 'super' object has no attribute '__sklearn_tags__'.\n",
    "# from scikeras.wrappers import KerasClassifier\n",
    "connection, cursor = connect_to_oracle()"
   ]
  },
  {
   "cell_type": "code",
   "execution_count": null,
   "id": "e6d4c7d6",
   "metadata": {},
   "outputs": [],
   "source": [
    "df, X_cols, y_col = get_data_for_anomaly_type(\n",
    "    cursor, 'BHT_WITH_PLACE', limit=20000)\n",
    "\n",
    "y = df[y_col].copy()\n",
    "# df.drop(columns=[y_col], inplace=True)\n",
    "X_train, X_test, y_train, y_test = train_test_split(\n",
    "    df, y, test_size=0.1, random_state=42)\n",
    "\n",
    "for pipeline in create_pipelines(X_cols):\n",
    "    # Evaluate the pipeline\n",
    "    evaluate_pipeline(pipeline, X_train, y_train,\n",
    "                      X_test, y_test, verbose=False)"
   ]
  },
  {
   "cell_type": "code",
   "execution_count": null,
   "id": "352e088e-a8c3-4750-b980-b9ce9d4dc036",
   "metadata": {},
   "outputs": [],
   "source": [
    "connection , cursor = connect_to_oracle()\n",
    "\n",
    "df, X_cols, y_col = get_data_for_anomaly_type(cursor, 'IM_TK_HEAT', limit=200000)\n",
    "\n",
    "y = df[y_col].copy()\n",
    "# df.drop(columns=[y_col], inplace=True)\n",
    "X_train, X_test, y_train, y_test = train_test_split(\n",
    "    df, y, test_size=0.1, random_state=42)\n",
    "\n",
    "for pipeline in create_pipelines(X_cols):\n",
    "    # Evaluate the pipeline\n",
    "    evaluate_pipeline(pipeline, X_train, y_train, X_test, y_test, verbose=False)\n"
   ]
  },
  {
   "cell_type": "code",
   "execution_count": null,
   "id": "f8a55943-3b28-494f-98d1-41bb2a010c68",
   "metadata": {},
   "outputs": [],
   "source": [
    "df, X_cols, y_col = get_data_for_anomaly_type(cursor, 'Z_SPEDITER', limit=200000)\n",
    "\n",
    "y = df[y_col].copy()\n",
    "# df.drop(columns=[y_col], inplace=True)\n",
    "X_train, X_test, y_train, y_test = train_test_split(\n",
    "    df, y, test_size=0.1, random_state=42)\n",
    "\n",
    "for pipeline in create_pipelines(X_cols):\n",
    "    # Evaluate the pipeline\n",
    "    evaluate_pipeline(pipeline, X_train, y_train, X_test, y_test, verbose=False)\n"
   ]
  },
  {
   "cell_type": "code",
   "execution_count": null,
   "id": "245b0ec5-6663-4461-ad3f-5ef3349d0a7a",
   "metadata": {},
   "outputs": [],
   "source": [
    "df, X_cols, y_col = get_data_for_anomaly_type(cursor, 'BHT', limit=100000)\n",
    "\n",
    "y = df[y_col].copy()\n",
    "# df.drop(columns=[y_col], inplace=True)\n",
    "X_train, X_test, y_train, y_test = train_test_split(\n",
    "    df, y, test_size=0.1, random_state=42)\n",
    "\n",
    "for pipeline in create_pipelines(X_cols):\n",
    "    # Evaluate the pipeline\n",
    "    evaluate_pipeline(pipeline, X_train, y_train, X_test, y_test, verbose=False)\n"
   ]
  },
  {
   "cell_type": "code",
   "execution_count": null,
   "id": "c2dbdc06-8f8b-40f0-b206-cc918abbc61a",
   "metadata": {},
   "outputs": [],
   "source": [
    "df, X_cols, y_col = get_data_for_anomaly_type(cursor, 'IM_CO_TYP', limit=200000)\n",
    "\n",
    "y = df[y_col].copy()\n",
    "# df.drop(columns=[y_col], inplace=True)\n",
    "X_train, X_test, y_train, y_test = train_test_split(\n",
    "    df, y, test_size=0.1, random_state=42)\n",
    "\n",
    "for pipeline in create_pipelines(X_cols):\n",
    "    # Evaluate the pipeline\n",
    "    evaluate_pipeline(pipeline, X_train, y_train, X_test, y_test, verbose=False)\n"
   ]
  },
  {
   "cell_type": "code",
   "execution_count": null,
   "id": "259036c7-7066-43cf-a636-e1a277ea7e54",
   "metadata": {},
   "outputs": [],
   "source": [
    "df, X_cols, y_col = get_data_for_anomaly_type(cursor, 'EX_CO_TYP', limit=20000)\n",
    "\n",
    "y = df[y_col].copy()\n",
    "# df.drop(columns=[y_col], inplace=True)\n",
    "X_train, X_test, y_train, y_test = train_test_split(\n",
    "    df, y, test_size=0.1, random_state=42)\n",
    "\n",
    "for pipeline in create_pipelines(X_cols):\n",
    "    # Evaluate the pipeline\n",
    "    evaluate_pipeline(pipeline, X_train, y_train, X_test, y_test, verbose=False)\n"
   ]
  },
  {
   "cell_type": "code",
   "execution_count": null,
   "id": "7e4dfaa1-f707-4dab-be8c-ec3925686d23",
   "metadata": {},
   "outputs": [],
   "source": [
    "from sklearn.preprocessing import LabelEncoder\n",
    "import pandas as pd\n",
    "df, X_cols, y_col = get_data_for_anomaly_type(cursor, 'TEMP_FROM', limit=200000)\n",
    "\n",
    "le = LabelEncoder()\n",
    "y = pd.Series(le.fit_transform(df[y_col]), index=df.index, name=y_col)\n",
    "X_train, X_test, y_train, y_test = train_test_split(\n",
    "    df, y, test_size=0.1, random_state=42)\n",
    "\n",
    "for pipeline in create_pipelines(X_cols):\n",
    "    evaluate_pipeline(pipeline, X_train, y_train, X_test, y_test, verbose=False)\n"
   ]
  }
 ],
 "metadata": {
  "kernelspec": {
   "display_name": "Python 3 (ipykernel)",
   "language": "python",
   "name": "python3"
  },
  "language_info": {
   "codemirror_mode": {
    "name": "ipython",
    "version": 3
   },
   "file_extension": ".py",
   "mimetype": "text/x-python",
   "name": "python",
   "nbconvert_exporter": "python",
   "pygments_lexer": "ipython3",
   "version": "3.12.10"
  }
 },
 "nbformat": 4,
 "nbformat_minor": 5
}
